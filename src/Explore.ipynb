{
 "cells": [
  {
   "cell_type": "code",
   "execution_count": 1,
   "id": "4156a6317d558342",
   "metadata": {},
   "outputs": [],
   "source": [
    "from main import * \n",
    "\n",
    "from ultralytics import YOLO\n"
   ]
  },
  {
   "cell_type": "markdown",
   "id": "23c4ca99-a8a3-4407-a7e8-70e0234c2c9d",
   "metadata": {},
   "source": [
    "# Image Processing "
   ]
  },
  {
   "cell_type": "code",
   "execution_count": 2,
   "id": "43329799-aa8c-4ed0-bd0b-e248ab8041ab",
   "metadata": {},
   "outputs": [
    {
     "data": {
      "image/png": "[encoded data removed]",
      "text/plain": [
       "<Figure size 1000x1000 with 1 Axes>"
      ]
     },
     "metadata": {},
     "output_type": "display_data"
    }
   ],
   "source": [
    "# Load an example image\n",
    "sample_idx = 0\n",
    "img_path = os.path.join(IMG_FOLDER, f\"{sample_idx}.png\")\n",
    "image_example = load_image(img_path)\n",
    "ann_path = os.path.join(ANN_FOLDER, f\"{sample_idx}.png.json\")\n",
    "ann_example = load_annotation(ann_path)\n",
    "\n",
    "img = TrainImage(image=image_example, annotations=ann_example)\n",
    "img.show_with_bounding_boxes()\n"
   ]
  },
  {
   "cell_type": "markdown",
   "id": "0837231c-fe54-478c-b217-cffe4701287a",
   "metadata": {},
   "source": [
    "# Modeling"
   ]
  },
  {
   "cell_type": "code",
   "execution_count": 11,
   "id": "1986a071-a9c9-4c10-8017-5ffafb66dbf1",
   "metadata": {},
   "outputs": [],
   "source": [
    "import torch\n",
    "import torch.nn as nn\n",
    "import torch.nn.functional as F\n",
    "import math\n",
    "import numpy as np\n",
    "from typing import List, Tuple, Optional, Dict"
   ]
  },
  {
   "cell_type": "code",
   "execution_count": 13,
   "id": "90213dab-9d63-4c1f-a2c6-ea473f4e713a",
   "metadata": {},
   "outputs": [],
   "source": [
    "class Conv(nn.Module):\n",
    "    \"\"\"\n",
    "    https://d2l.ai/chapter_convolutional-neural-networks/channels.html\n",
    "    \"\"\"\n",
    "    def __init__(\n",
    "        self, in_channels, out_channels, \n",
    "        kernel_size=1, stride=1, padding=None,\n",
    "        groups=1, bias=False\n",
    "    ):\n",
    "        super().__init__()\n",
    "        if padding is None:\n",
    "            min_padding = 1 \n",
    "            padding = max(min_padding, kernel_size // 2)\n",
    "        self.conv = nn.Conv2d(\n",
    "            in_channels, \n",
    "            out_channels, \n",
    "            kernel_size=kernel_size,\n",
    "            stride=stride,\n",
    "            padding=padding,\n",
    "            groups=groups,\n",
    "            bias=bias\n",
    "        )\n",
    "        self.bn = nn.BatchNorm2d(out_channel)\n",
    "        self.act = nn.SiLU()\n",
    "\n",
    "    def forward(self, x):\n",
    "        return self.act(self.bn(self.conv(x)))\n",
    "\n",
    "class DWConv(Conv):\n",
    "    \"\"\"\n",
    "    Depthwise Convolution is a type of convolution where we apply a single \n",
    "    convolutional filter for each input channel. \n",
    "    In the regular 2D convolution performed over multiple input channels,\n",
    "    the filter is as deep as the input and lets us freely mix channels \n",
    "    to generate each element in the output. In contrast, \n",
    "    depthwise convolutions keep each (input) channel separate, \n",
    "    i.e., applies one filter per input channel. \n",
    "    To summarize the steps, we:\n",
    "     - Split the input and filter into channels.\n",
    "     - We convolve each input with the respective filter.\n",
    "     - We stack the convolved outputs together.\n",
    "    \"\"\" \n",
    "    def __init__(\n",
    "        self, in_channels, out_channels, \n",
    "        kernel_size=1, stride=1, padding=None,\n",
    "        bias=False\n",
    "    ):\n",
    "        groups = math.gcd(in_channels, out_channels) \n",
    "        super().__init__(\n",
    "            self, in_channels, out_channels, \n",
    "            kernel_size=kernel_size, stride=stride, padding=padding,\n",
    "            groups=groups, bias=bias\n",
    "        )\n",
    "\n",
    "        "
   ]
  },
  {
   "cell_type": "code",
   "execution_count": 14,
   "id": "6a091534-fe35-4881-90b8-a34e298109c5",
   "metadata": {},
   "outputs": [],
   "source": [
    "import logging \n",
    "\n",
    "logger = logging.getLogger(__name__)\n",
    "logger.setLevel(logging.DEBUG)"
   ]
  },
  {
   "cell_type": "code",
   "execution_count": 15,
   "id": "95a14050-0ef1-4a3c-9893-14a307db108b",
   "metadata": {},
   "outputs": [],
   "source": [
    "class Bottleneck(nn.Module):\n",
    "    \"\"\"\n",
    "    Also can be seen as a residual + conv layers. \n",
    "    \"\"\"\n",
    "    def __init__(\n",
    "        self, in_channels, out_channels, shortcut=True,\n",
    "        group=1, expansion=0.5\n",
    "    ):\n",
    "        hidden_channels = int(out_channels * expansion) \n",
    "        self.conv1 = Conv(in_channels, hidden_channels, 1)\n",
    "        self.conv2 = Conv(hidden_channels, out_channels, 3, groups=groups)\n",
    "        if in_channels != out_channels:\n",
    "            logger.warn(\n",
    "                f\"in_channels ({in_channels}) != out_channels {out_channels}\",\n",
    "            )\n",
    "        self.add = shortcut and in_channels == out_channels \n",
    "\n",
    "    def forward(self, x): \n",
    "        return x + self.conv2(self.conv1(x)) if self.add else self.conv2(self.conv1(x))                "
   ]
  },
  {
   "cell_type": "code",
   "execution_count": null,
   "id": "12dc93d9-08f2-47d6-b371-1b51f831fbf6",
   "metadata": {},
   "outputs": [],
   "source": [
    "class C2F(nn.Module):\n",
    "    def __init__(\n",
    "        self, in_channels, out_channels, \n",
    "        kernel, n=1, stride=1, shortcut=False, \n",
    "        groups=1, expanasion=0.5\n",
    "    ):\n",
    "        \"\"\"\n",
    "        n = depth\n",
    "        \"\"\"\n",
    "        super().__init__()\n",
    "        c = int(out_channels * expansion)\n",
    "        # The one that we will be adding output too\n",
    "        self.conv_1 = Conv(in_channels, 2 * c, 1)  \n",
    "        # The one that will handle concatinated output \n",
    "        seff.conv_2 = Conv((2+n) * c, out_channels, 1)\n",
    "\n",
    "        self.m = nn.ModuleList(\n",
    "            Bottleneck(c, c, shortcut, groups, expansion=1) for _ in range(n)\n",
    "        )\n",
    "\n",
    "    def forward(x):\n",
    "        y = list(self.conv_1(x).chunk(2, 1))\n",
    "        y.extend(bottleneck(y[-1]) for bottleneck in self.m)\n",
    "        \n",
    "        return self.conv_2(torch.cat(y,1))"
   ]
  },
  {
   "cell_type": "code",
   "execution_count": null,
   "id": "33cadc7a-60b5-446e-adaa-d2b68f642c16",
   "metadata": {},
   "outputs": [],
   "source": [
    "class SPPF(nn.Module):\n",
    "    \"\"\"Spatial Pyramid Pooling - Fast (SPPF) layer\"\"\"\n",
    "    def __init__(self, in_channels, out_channels, kernel_size=5):\n",
    "        super().__init__()\n",
    "        hidden_channels = in_channels // 2\n",
    "        self.cv1 = Conv(in_channels, hidden_channels, 1)\n",
    "        self.cv2 = Conv(hidden_channels * 4, out_channels, 1)\n",
    "        # ToDo: double check if the maxpooling layer has proper dimensions \n",
    "        self.m = nn.MaxPool2d(\n",
    "            kernel_size=kernel_size, \n",
    "            stride=1, \n",
    "            padding=kernel_size // 2\n",
    "        )\n",
    "\n",
    "    def forward(self, x):\n",
    "        x = self.cv1(x)\n",
    "        y1 = self.m(x)\n",
    "        y2 = self.m(y1)\n",
    "        y3 = self.m(y2)\n",
    "        return self.cv2(torch.cat([x, y1, y2, y3], 1))"
   ]
  },
  {
   "cell_type": "code",
   "execution_count": null,
   "id": "3cdfff4a-9fdc-4cc9-9d72-40a03e34e01c",
   "metadata": {},
   "outputs": [],
   "source": [
    "class Detect(nn.Module):\n",
    "    def __init__(\n",
    "        self, num_classes, in_channels=(64, 128, 256), strides, \n",
    "    ):\n",
    "        super().__init__()\n",
    "        self.dfl_channels = 16 \n",
    "        self.num_classes = num_classes\n",
    "        sefl.num_outputs = num_classes + 4 # number of outputs per anchor \n",
    "        self.num_layers = len(in_channels)\n",
    "        self.stride = torch.tensor(strides)\n",
    "\n",
    "        c1 = max(in_channels[0], self.num_classes)\n",
    "        c2 = max((in_channels[0] // 4, self.ch * 4))\n",
    "\n",
    "        self.dfl = DFL(self.dfl_channels)\n",
    "        self.cls = torch.nn.ModuleList(\n",
    "            torch.nn.Sequential(\n",
    "                Conv(x, c1, 3),\n",
    "                Conv(c1, c1, 3),\n",
    "                torch.nn.Conv2d(c1, self.num_classes, 1)\n",
    "            ) \n",
    "            for x in filters\n",
    "        )\n",
    "        self.box = torch.nn.ModuleList(\n",
    "            torch.nn.Sequential(\n",
    "                Conv(x, c2, 3),\n",
    "                Conv(c2, c2, 3),\n",
    "                torch.nn.Conv2d(c2, 4 * self.dfl_channels, 1)\n",
    "            ) for x in filters\n",
    "        )"
   ]
  },
  {
   "cell_type": "code",
   "execution_count": null,
   "id": "afe41f87-fade-4776-81d3-60e454f39b91",
   "metadata": {},
   "outputs": [],
   "source": []
  },
  {
   "cell_type": "code",
   "execution_count": null,
   "id": "8f8a529e-0343-43e8-b0c5-924c9496d989",
   "metadata": {},
   "outputs": [],
   "source": []
  },
  {
   "cell_type": "code",
   "execution_count": null,
   "id": "4aa44b16-f5dd-44c7-a740-30cc464e3522",
   "metadata": {},
   "outputs": [],
   "source": []
  },
  {
   "cell_type": "code",
   "execution_count": null,
   "id": "0460baae-2299-48ec-a704-6e21eb3fb5a2",
   "metadata": {},
   "outputs": [],
   "source": []
  },
  {
   "cell_type": "code",
   "execution_count": null,
   "id": "044f9bb5-b85a-4c39-8a93-61782bb2f44e",
   "metadata": {},
   "outputs": [],
   "source": []
  },
  {
   "cell_type": "code",
   "execution_count": null,
   "id": "cf31b0a7-a240-487c-9dc6-088a9bbc9cc8",
   "metadata": {},
   "outputs": [],
   "source": []
  },
  {
   "cell_type": "code",
   "execution_count": null,
   "id": "7d38b2a4-0338-4ecd-85fb-9a0c6788172e",
   "metadata": {},
   "outputs": [],
   "source": []
  }
 ],
 "metadata": {
  "kernelspec": {
   "display_name": "Python 3 (ipykernel)",
   "language": "python",
   "name": "python3"
  },
  "language_info": {
   "codemirror_mode": {
    "name": "ipython",
    "version": 3
   },
   "file_extension": ".py",
   "mimetype": "text/x-python",
   "name": "python",
   "nbconvert_exporter": "python",
   "pygments_lexer": "ipython3",
   "version": "3.13.3"
  }
 },
 "nbformat": 4,
 "nbformat_minor": 5
}
